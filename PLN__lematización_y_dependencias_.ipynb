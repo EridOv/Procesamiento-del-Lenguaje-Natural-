{
  "nbformat": 4,
  "nbformat_minor": 0,
  "metadata": {
    "colab": {
      "name": "PLN_ lematización y dependencias .ipynb",
      "provenance": [],
      "authorship_tag": "ABX9TyOrmZZ1E04I/VeqfzioD/2i"
    },
    "kernelspec": {
      "name": "python3",
      "display_name": "Python 3"
    },
    "language_info": {
      "name": "python"
    }
  },
  "cells": [
    {
      "cell_type": "markdown",
      "source": [
        "# Ejemplo de lematización y análisis de dependencias.\n",
        "\n"
      ],
      "metadata": {
        "id": "fW60N3RRNUWn"
      }
    },
    {
      "cell_type": "code",
      "metadata": {
        "id": "b7KExo3fsGiR"
      },
      "source": [
        "import spacy\n",
        "from spacy import displacy\n",
        "from pathlib import Path"
      ],
      "execution_count": null,
      "outputs": []
    },
    {
      "cell_type": "code",
      "metadata": {
        "colab": {
          "base_uri": "https://localhost:8080/"
        },
        "id": "JPACoH6SsUQJ",
        "outputId": "e67e680b-427b-41b4-9d69-52248a1a8658"
      },
      "source": [
        "nlp = spacy.load('en_core_web_sm')\n",
        "\n",
        "def visualize(doc, is_list=False):\n",
        "    options = {\"add_lemma\": True, \n",
        "            \"compact\": True, \n",
        "            \"color\": \"green\", \n",
        "            \"collapse_punct\": True, \n",
        "            \"arrow_spacing\": 20, \n",
        "            \"bg\": \"#FFFFE6\",\n",
        "            \"font\": \"Times\",\n",
        "            \"distance\": 120}\n",
        "    if (is_list):\n",
        "        displacy.serve(list(doc.sents), style='dep', options=options)\n",
        "    else:\n",
        "        displacy.serve(doc, style='dep', options=options)\n",
        "\n",
        "def save_dependency_parse(doc, path):\n",
        "    output_path = Path(path)\n",
        "    svg = displacy.render(doc, style=\"dep\", jupyter=False)\n",
        "    output_path.open(\"w\", encoding=\"utf-8\").write(svg)\n",
        "\n",
        "\n",
        "text = \"Mr. Tyson has denied that he tried to kill himself and that he assaulted his wife  \"\n",
        "\n",
        "    \n",
        "doc = nlp(text)\n",
        "visualize(doc)\n",
        "save_dependency_parse(doc, \"dependency_parss2.svg\")\n",
        "\n"
      ],
      "execution_count": null,
      "outputs": [
        {
          "output_type": "stream",
          "name": "stdout",
          "text": [
            "\n",
            "Using the 'dep' visualizer\n",
            "Serving on http://0.0.0.0:5000 ...\n",
            "\n",
            "Shutting down server on port 5000.\n"
          ]
        }
      ]
    }
  ]
}