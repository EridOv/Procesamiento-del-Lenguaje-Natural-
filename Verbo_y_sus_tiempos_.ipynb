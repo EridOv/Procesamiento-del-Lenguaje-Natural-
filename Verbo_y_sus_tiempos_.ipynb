{
  "nbformat": 4,
  "nbformat_minor": 0,
  "metadata": {
    "colab": {
      "name": "Verbo y sus tiempos .ipynb",
      "provenance": [],
      "collapsed_sections": [],
      "authorship_tag": "ABX9TyO5gvrX4uTv1zCJ6rUpDtYp",
      "include_colab_link": true
    },
    "kernelspec": {
      "name": "python3",
      "display_name": "Python 3"
    },
    "language_info": {
      "name": "python"
    }
  },
  "cells": [
    {
      "cell_type": "markdown",
      "metadata": {
        "id": "view-in-github",
        "colab_type": "text"
      },
      "source": [
        "<a href=\"https://colab.research.google.com/github/EridOv/Procesamiento-del-Lenguaje-Natural-/blob/main/Verbo_y_sus_tiempos_.ipynb\" target=\"_parent\"><img src=\"https://colab.research.google.com/assets/colab-badge.svg\" alt=\"Open In Colab\"/></a>"
      ]
    },
    {
      "cell_type": "markdown",
      "source": [
        "# Identificación de tiempos verbales en un texto:"
      ],
      "metadata": {
        "id": "7mXNRJQEiqoN"
      }
    },
    {
      "cell_type": "code",
      "metadata": {
        "id": "ktb3yheuS_gB"
      },
      "source": [
        "import spacy\n",
        "import matplotlib.pyplot as plt\n",
        "\n",
        "nlp = spacy.load(\"en_core_web_sm\")\n",
        "past_tags = [\"VBD\", \"VBN\"]\n",
        "present_tags = [\"VBG\", \"VBP\", \"VBZ\"]"
      ],
      "execution_count": null,
      "outputs": []
    },
    {
      "cell_type": "code",
      "metadata": {
        "id": "xxw-uwMOWX6W"
      },
      "source": [
        "def read_text_file(filename):\n",
        "    file = open(filename, \"r\", encoding=\"utf-8\") \n",
        "    return file.read()"
      ],
      "execution_count": null,
      "outputs": []
    },
    {
      "cell_type": "code",
      "metadata": {
        "colab": {
          "base_uri": "https://localhost:8080/",
          "height": 322
        },
        "id": "El2058LATUhk",
        "outputId": "e187cd36-a5da-46ab-f4bc-f6caea40aba3"
      },
      "source": [
        "def visualize_verbs(text_file):\n",
        "    text = read_text_file (text_file)\n",
        "    doc = nlp(text)\n",
        "    verb_dict = {\"Inf\":0, \"Past\":0, \"Present\":0}\n",
        "    for token in doc:\n",
        "        if (token.tag_ == \"VB\"):\n",
        "            verb_dict[\"Inf\"] = verb_dict[\"Inf\"] + 1\n",
        "        if (token.tag_ in past_tags):\n",
        "            verb_dict[\"Past\"] = verb_dict[\"Past\"] + 1\n",
        "        if (token.tag_ in present_tags):\n",
        "            verb_dict[\"Present\"] = verb_dict[\"Present\"] + 1\n",
        "    plt.bar(range(len(verb_dict)), list(verb_dict.values()), align='center', color=[\"red\", \"green\", \"blue\"])\n",
        "    plt.xticks(range(len(verb_dict)), list(verb_dict.keys()))\n",
        "    plt.show()\n",
        "\n",
        "\n",
        "visualize_verbs('TroFiExampleBase1.txt')\n"
      ],
      "execution_count": null,
      "outputs": [
        {
          "output_type": "error",
          "ename": "NameError",
          "evalue": "ignored",
          "traceback": [
            "\u001b[0;31m---------------------------------------------------------------------------\u001b[0m",
            "\u001b[0;31mNameError\u001b[0m                                 Traceback (most recent call last)",
            "\u001b[0;32m<ipython-input-1-a739f18d7500>\u001b[0m in \u001b[0;36m<module>\u001b[0;34m()\u001b[0m\n\u001b[1;32m     15\u001b[0m \u001b[0;34m\u001b[0m\u001b[0m\n\u001b[1;32m     16\u001b[0m \u001b[0;34m\u001b[0m\u001b[0m\n\u001b[0;32m---> 17\u001b[0;31m \u001b[0mvisualize_verbs\u001b[0m\u001b[0;34m(\u001b[0m\u001b[0;34m'TroFiExampleBase1.txt'\u001b[0m\u001b[0;34m)\u001b[0m\u001b[0;34m\u001b[0m\u001b[0;34m\u001b[0m\u001b[0m\n\u001b[0m",
            "\u001b[0;32m<ipython-input-1-a739f18d7500>\u001b[0m in \u001b[0;36mvisualize_verbs\u001b[0;34m(text_file)\u001b[0m\n\u001b[1;32m      1\u001b[0m \u001b[0;32mdef\u001b[0m \u001b[0mvisualize_verbs\u001b[0m\u001b[0;34m(\u001b[0m\u001b[0mtext_file\u001b[0m\u001b[0;34m)\u001b[0m\u001b[0;34m:\u001b[0m\u001b[0;34m\u001b[0m\u001b[0;34m\u001b[0m\u001b[0m\n\u001b[0;32m----> 2\u001b[0;31m     \u001b[0mtext\u001b[0m \u001b[0;34m=\u001b[0m \u001b[0mread_text_file\u001b[0m \u001b[0;34m(\u001b[0m\u001b[0mtext_file\u001b[0m\u001b[0;34m)\u001b[0m\u001b[0;34m\u001b[0m\u001b[0;34m\u001b[0m\u001b[0m\n\u001b[0m\u001b[1;32m      3\u001b[0m     \u001b[0mdoc\u001b[0m \u001b[0;34m=\u001b[0m \u001b[0mnlp\u001b[0m\u001b[0;34m(\u001b[0m\u001b[0mtext\u001b[0m\u001b[0;34m)\u001b[0m\u001b[0;34m\u001b[0m\u001b[0;34m\u001b[0m\u001b[0m\n\u001b[1;32m      4\u001b[0m     \u001b[0mverb_dict\u001b[0m \u001b[0;34m=\u001b[0m \u001b[0;34m{\u001b[0m\u001b[0;34m\"Inf\"\u001b[0m\u001b[0;34m:\u001b[0m\u001b[0;36m0\u001b[0m\u001b[0;34m,\u001b[0m \u001b[0;34m\"Past\"\u001b[0m\u001b[0;34m:\u001b[0m\u001b[0;36m0\u001b[0m\u001b[0;34m,\u001b[0m \u001b[0;34m\"Present\"\u001b[0m\u001b[0;34m:\u001b[0m\u001b[0;36m0\u001b[0m\u001b[0;34m}\u001b[0m\u001b[0;34m\u001b[0m\u001b[0;34m\u001b[0m\u001b[0m\n\u001b[1;32m      5\u001b[0m     \u001b[0;32mfor\u001b[0m \u001b[0mtoken\u001b[0m \u001b[0;32min\u001b[0m \u001b[0mdoc\u001b[0m\u001b[0;34m:\u001b[0m\u001b[0;34m\u001b[0m\u001b[0;34m\u001b[0m\u001b[0m\n",
            "\u001b[0;31mNameError\u001b[0m: name 'read_text_file' is not defined"
          ]
        }
      ]
    },
    {
      "cell_type": "code",
      "metadata": {
        "id": "1Qw2B_BeVH2K"
      },
      "source": [
        ""
      ],
      "execution_count": null,
      "outputs": []
    }
  ]
}